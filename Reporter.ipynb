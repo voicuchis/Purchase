{
 "cells": [
  {
   "cell_type": "code",
   "execution_count": 424,
   "metadata": {},
   "outputs": [],
   "source": [
    "#Parameters\n",
    "g_output_category=\"Car\"\n",
    "g_output_calendar=\"M\" # options are 'M', 'W','D'\n"
   ]
  },
  {
   "cell_type": "code",
   "execution_count": 421,
   "metadata": {},
   "outputs": [
    {
     "data": {
      "text/plain": [
       "'bin/Categories.gv.pdf'"
      ]
     },
     "execution_count": 421,
     "metadata": {},
     "output_type": "execute_result"
    }
   ],
   "source": [
    "from graphviz import Digraph\n",
    "import pandas as pd\n",
    "g_Cat_Tree={} # child to parent mapping\n",
    "\n",
    "allCategories_DF = pd.read_csv(\"Data/categories.csv\")\n",
    "G = Digraph()\n",
    "\n",
    "for i in range(0, len(allCategories_DF)):\n",
    "    G.edge(allCategories_DF[\"Parent\"].iloc[i],allCategories_DF[\"Child\"].iloc[i])\n",
    "    g_Cat_Tree[allCategories_DF[\"Child\"].iloc[i]]=allCategories_DF[\"Parent\"].iloc[i]\n",
    "\n",
    "G.render('bin/Categories.gv', view=True) "
   ]
  },
  {
   "cell_type": "code",
   "execution_count": 422,
   "metadata": {},
   "outputs": [
    {
     "name": "stderr",
     "output_type": "stream",
     "text": [
      "C:\\Users\\phill\\Anaconda3\\lib\\site-packages\\ipykernel_launcher.py:66: SettingWithCopyWarning: \n",
      "A value is trying to be set on a copy of a slice from a DataFrame.\n",
      "Try using .loc[row_indexer,col_indexer] = value instead\n",
      "\n",
      "See the caveats in the documentation: http://pandas.pydata.org/pandas-docs/stable/indexing.html#indexing-view-versus-copy\n"
     ]
    },
    {
     "data": {
      "text/plain": [
       "<matplotlib.axes._subplots.AxesSubplot at 0x233a8f9dcf8>"
      ]
     },
     "execution_count": 422,
     "metadata": {},
     "output_type": "execute_result"
    },
    {
     "data": {
      "image/png": "[encoded data removed]",
      "text/plain": [
       "<matplotlib.figure.Figure at 0x233a8fd2f60>"
      ]
     },
     "metadata": {},
     "output_type": "display_data"
    }
   ],
   "source": [
    "import pandas as pd\n",
    "import numpy as np\n",
    "\n",
    "def getLevel(node, target, thisTree):\n",
    "    level = 0\n",
    "    try:\n",
    "        while(node!=target):\n",
    "            node = thisTree[node]\n",
    "            level += 1\n",
    "        return level;\n",
    "    except:\n",
    "        return -1\n",
    "    \n",
    "def getCategory(storeName, minLen):\n",
    "    try:\n",
    "        candidates_DF = g_allLocations.loc[storeName[:minLen]]\n",
    "        shortListCandidatesSeries = []\n",
    "        if (type(candidates_DF) is pd.Series):\n",
    "            shortListCandidatesSeries.append(candidates_DF)\n",
    "        else:\n",
    "            for i in range(len(candidates_DF)):\n",
    "                shortListCandidatesSeries.append(candidates_DF.iloc[i])\n",
    "        \n",
    "        for candidate in shortListCandidatesSeries:\n",
    "            if (storeName.startswith(candidate.loc[\"Substring\"])):\n",
    "                return candidate[\"Category\"]\n",
    "        return \"Invalid Transaction\"\n",
    "    except:\n",
    "        return \"Invalid Transaction\"\n",
    "\n",
    "# Load the data and some useful global variables\n",
    "g_allLocations = pd.read_csv(\"Data/locations.csv\")\n",
    "g_allLocations_min_len = min([len(x) for x in g_allLocations[\"Substring\"] ])\n",
    "g_allLocations[\"FirstLetters\"] = g_allLocations[\"Substring\"].apply(lambda x:  x[:g_allLocations_min_len])\n",
    "g_allLocations.set_index(\"FirstLetters\" , inplace=True)\n",
    "\n",
    "allTransactions = (\n",
    "    pd.read_csv(\"Data/2018.csv\", \n",
    "                quotechar='\"', \n",
    "                header=None, \n",
    "                names=['Date','Store','Payed','Received',\"CC\"],\n",
    "                parse_dates=['Date']\n",
    "               )\n",
    ")\n",
    "allTransactions['Payed']=pd.to_numeric(allTransactions['Payed'])\n",
    "allTransactions[\"Category\"] = allTransactions[\"Store\"].apply(lambda x: getCategory(x, g_allLocations_min_len))\n",
    "allTransactions[\"IncludeTransaction\"] = allTransactions[\"Category\"].apply(lambda x: getLevel(x,g_output_category, g_Cat_Tree))\n",
    "\n",
    "\n",
    "relevantTransactions = allTransactions[allTransactions[\"IncludeTransaction\"]>=0]\n",
    "\n",
    "minDate = min(relevantTransactions[\"Date\"])\n",
    "maxDate = max(relevantTransactions[\"Date\"])\n",
    "dateRange = pd.date_range(minDate, maxDate, freq=g_output_calendar)\n",
    "\n",
    "if g_output_calendar=='W':\n",
    "    relevantTransactions[\"Class\"] = relevantTransactions[\"Date\"].apply(lambda x: x.isocalendar()[0:2])\n",
    "    dateRange =[x.isocalendar()[0:2] for x in dateRange]\n",
    "elif g_output_calendar=='M':\n",
    "    relevantTransactions[\"Class\"] = relevantTransactions[\"Date\"].apply(lambda x: (x.year,x.month))\n",
    "    dateRange =[(x.year,x.month) for x in dateRange]\n",
    "elif g_output_calendar=='Y':\n",
    "    relevantTransactions[\"Class\"] = relevantTransactions[\"Date\"].apply(lambda x: x.year)\n",
    "    dateRange =[x.year for x in dateRange]\n",
    "elif g_output_calendar=='D':\n",
    "    relevantTransactions[\"Class\"] = relevantTransactions[\"Date\"].apply(lambda x: (x.year,x.month,x.day))\n",
    "    dateRange =[(x.year,x.month,x.day) for x in dateRange]\n",
    "\n",
    "toPlotData = relevantTransactions.groupby([\"Class\", \"Category\"]).agg({\"Payed\":sum,\"Received\":sum}).reset_index().set_index(\"Category\")\n",
    "toPlotCategories = set(relevantTransactions[\"Category\"])\n",
    "plottingMaterial=pd.DataFrame(index=dateRange)\n",
    "for cat in toPlotCategories:\n",
    "    catDF = toPlotData.loc[cat]\n",
    "    if (type(catDF) is pd.Series):\n",
    "        catDF = pd.DataFrame(toPlotData.loc[\"Fines\"]).T\n",
    "    plottingMaterial[cat] = catDF.set_index(\"Class\")[\"Payed\"]\n",
    "\n",
    "%matplotlib inline\n",
    "plottingMaterial.plot(kind='bar', stacked=True)"
   ]
  },
  {
   "cell_type": "code",
   "execution_count": 394,
   "metadata": {},
   "outputs": [
    {
     "data": {
      "text/html": [
       "<div>\n",
       "<style>\n",
       "    .dataframe thead tr:only-child th {\n",
       "        text-align: right;\n",
       "    }\n",
       "\n",
       "    .dataframe thead th {\n",
       "        text-align: left;\n",
       "    }\n",
       "\n",
       "    .dataframe tbody tr th {\n",
       "        vertical-align: top;\n",
       "    }\n",
       "</style>\n",
       "<table border=\"1\" class=\"dataframe\">\n",
       "  <thead>\n",
       "    <tr style=\"text-align: right;\">\n",
       "      <th></th>\n",
       "      <th>Gas</th>\n",
       "      <th>Fines</th>\n",
       "      <th>Parking</th>\n",
       "    </tr>\n",
       "  </thead>\n",
       "  <tbody>\n",
       "    <tr>\n",
       "      <th>(2018, 1)</th>\n",
       "      <td>147.25</td>\n",
       "      <td>NaN</td>\n",
       "      <td>78.25</td>\n",
       "    </tr>\n",
       "    <tr>\n",
       "      <th>(2018, 2)</th>\n",
       "      <td>67.40</td>\n",
       "      <td>61.5</td>\n",
       "      <td>109.45</td>\n",
       "    </tr>\n",
       "    <tr>\n",
       "      <th>(2018, 3)</th>\n",
       "      <td>31.81</td>\n",
       "      <td>NaN</td>\n",
       "      <td>73.05</td>\n",
       "    </tr>\n",
       "  </tbody>\n",
       "</table>\n",
       "</div>"
      ],
      "text/plain": [
       "              Gas Fines  Parking\n",
       "(2018, 1)  147.25   NaN    78.25\n",
       "(2018, 2)   67.40  61.5   109.45\n",
       "(2018, 3)   31.81   NaN    73.05"
      ]
     },
     "execution_count": 394,
     "metadata": {},
     "output_type": "execute_result"
    }
   ],
   "source": [
    "plottingMaterial"
   ]
  },
  {
   "cell_type": "code",
   "execution_count": 386,
   "metadata": {},
   "outputs": [
    {
     "data": {
      "text/html": [
       "<div>\n",
       "<style>\n",
       "    .dataframe thead tr:only-child th {\n",
       "        text-align: right;\n",
       "    }\n",
       "\n",
       "    .dataframe thead th {\n",
       "        text-align: left;\n",
       "    }\n",
       "\n",
       "    .dataframe tbody tr th {\n",
       "        vertical-align: top;\n",
       "    }\n",
       "</style>\n",
       "<table border=\"1\" class=\"dataframe\">\n",
       "  <thead>\n",
       "    <tr style=\"text-align: right;\">\n",
       "      <th></th>\n",
       "      <th>Class</th>\n",
       "      <th>Payed</th>\n",
       "      <th>Received</th>\n",
       "    </tr>\n",
       "    <tr>\n",
       "      <th>Category</th>\n",
       "      <th></th>\n",
       "      <th></th>\n",
       "      <th></th>\n",
       "    </tr>\n",
       "  </thead>\n",
       "  <tbody>\n",
       "    <tr>\n",
       "      <th>Gas</th>\n",
       "      <td>(2018, 1)</td>\n",
       "      <td>147.25</td>\n",
       "      <td>NaN</td>\n",
       "    </tr>\n",
       "    <tr>\n",
       "      <th>Gas</th>\n",
       "      <td>(2018, 2)</td>\n",
       "      <td>67.40</td>\n",
       "      <td>NaN</td>\n",
       "    </tr>\n",
       "    <tr>\n",
       "      <th>Gas</th>\n",
       "      <td>(2018, 3)</td>\n",
       "      <td>31.81</td>\n",
       "      <td>NaN</td>\n",
       "    </tr>\n",
       "    <tr>\n",
       "      <th>Gas</th>\n",
       "      <td>(2018, 4)</td>\n",
       "      <td>96.36</td>\n",
       "      <td>NaN</td>\n",
       "    </tr>\n",
       "  </tbody>\n",
       "</table>\n",
       "</div>"
      ],
      "text/plain": [
       "              Class   Payed  Received\n",
       "Category                             \n",
       "Gas       (2018, 1)  147.25       NaN\n",
       "Gas       (2018, 2)   67.40       NaN\n",
       "Gas       (2018, 3)   31.81       NaN\n",
       "Gas       (2018, 4)   96.36       NaN"
      ]
     },
     "execution_count": 386,
     "metadata": {},
     "output_type": "execute_result"
    }
   ],
   "source": [
    "toPlotData.loc[\"Gas\"]"
   ]
  },
  {
   "cell_type": "code",
   "execution_count": null,
   "metadata": {
    "collapsed": true
   },
   "outputs": [],
   "source": []
  }
 ],
 "metadata": {
  "kernelspec": {
   "display_name": "Python 3",
   "language": "python",
   "name": "python3"
  },
  "language_info": {
   "codemirror_mode": {
    "name": "ipython",
    "version": 3
   },
   "file_extension": ".py",
   "mimetype": "text/x-python",
   "name": "python",
   "nbconvert_exporter": "python",
   "pygments_lexer": "ipython3",
   "version": "3.6.3"
  }
 },
 "nbformat": 4,
 "nbformat_minor": 2
}
