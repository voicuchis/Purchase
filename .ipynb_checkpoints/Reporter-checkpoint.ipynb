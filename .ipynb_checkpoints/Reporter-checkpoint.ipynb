{
 "cells": [
  {
   "cell_type": "code",
   "execution_count": 43,
   "metadata": {
    "collapsed": true
   },
   "outputs": [],
   "source": [
    "#Parameters\n",
    "category=\"Alcohol\""
   ]
  },
  {
   "cell_type": "code",
   "execution_count": 44,
   "metadata": {},
   "outputs": [
    {
     "data": {
      "text/plain": [
       "'bin/Categories.gv.pdf'"
      ]
     },
     "execution_count": 44,
     "metadata": {},
     "output_type": "execute_result"
    }
   ],
   "source": [
    "from graphviz import Digraph\n",
    "import pandas as pd\n",
    "\n",
    "allCategories_DF = pd.read_csv(\"Data/categories.csv\")\n",
    "G = Digraph()\n",
    "\n",
    "for i in range(0, len(allCategories_DF)):\n",
    "    G.edge(allCategories_DF[\"Parent\"].iloc[i],allCategories_DF[\"Child\"].iloc[i])\n",
    "\n",
    "G.render('bin/Categories.gv', view=True) "
   ]
  },
  {
   "cell_type": "code",
   "execution_count": 98,
   "metadata": {},
   "outputs": [
    {
     "name": "stdout",
     "output_type": "stream",
     "text": [
      "             Category           Substring\n",
      "FirstLetters                             \n",
      "LCBO/         Alcohol            LCBO/RAO\n",
      "THE B         Alcohol      THE BEER STORE\n",
      "WHOLE            Food  WHOLE FOODS MARKET\n",
      "FARM             Food            FARM BOY\n",
      "SHELL             Gas               SHELL\n",
      "YUMMY            Food        YUMMY MARKET\n",
      "[]\n",
      "<class 'list'>\n",
      "Category                   Food\n",
      "Substring    WHOLE FOODS MARKET\n",
      "Name: WHOLE, dtype: object\n",
      "<class 'pandas.core.series.Series'>\n",
      "Category                   Food\n",
      "Substring    WHOLE FOODS MARKET\n",
      "Name: WHOLE, dtype: object\n",
      "<class 'pandas.core.series.Series'>\n",
      "Category                   Food\n",
      "Substring    WHOLE FOODS MARKET\n",
      "Name: WHOLE, dtype: object\n",
      "<class 'pandas.core.series.Series'>\n"
     ]
    }
   ],
   "source": [
    "import pandas as pd\n",
    "def getCategory(storeName, minLen):\n",
    "    try:\n",
    "        shortListCandidates = g_allLocations.loc[storeName[:minLen]]\n",
    "    except:\n",
    "        shortListCandidates=[]\n",
    "        \n",
    "    print(shortListCandidates)\n",
    "    print(type(shortListCandidates))\n",
    "    return \"All\"\n",
    "\n",
    "# Load the data and some very useful global variables\n",
    "g_allLocations = pd.read_csv(\"Data/locations.csv\")\n",
    "g_allLocations_min_len = min([len(x) for x in g_allLocations[\"Substring\"] ])\n",
    "g_allLocations[\"FirstLetters\"] = g_allLocations[\"Substring\"].apply(lambda x:  x[:minLen])\n",
    "g_allLocations.set_index(\"FirstLetters\" , inplace=True)\n",
    "print(g_allLocations)\n",
    "\n",
    "allTransactions = pd.read_csv(\"Data/2018_.csv\", quotechar='\"', header=None, names=['Date','Store','Payed','Received',\"CC\"])\n",
    "\n",
    "allTransactions[\"Category\"] = allTransactions[\"Store\"].apply(lambda x: getCategory(x,g_allLocations_min_len))"
   ]
  },
  {
   "cell_type": "code",
   "execution_count": 86,
   "metadata": {},
   "outputs": [
    {
     "data": {
      "text/html": [
       "<div>\n",
       "<style>\n",
       "    .dataframe thead tr:only-child th {\n",
       "        text-align: right;\n",
       "    }\n",
       "\n",
       "    .dataframe thead th {\n",
       "        text-align: left;\n",
       "    }\n",
       "\n",
       "    .dataframe tbody tr th {\n",
       "        vertical-align: top;\n",
       "    }\n",
       "</style>\n",
       "<table border=\"1\" class=\"dataframe\">\n",
       "  <thead>\n",
       "    <tr style=\"text-align: right;\">\n",
       "      <th></th>\n",
       "      <th>Category</th>\n",
       "      <th>Substring</th>\n",
       "    </tr>\n",
       "    <tr>\n",
       "      <th>FirstLetters</th>\n",
       "      <th></th>\n",
       "      <th></th>\n",
       "    </tr>\n",
       "  </thead>\n",
       "  <tbody>\n",
       "    <tr>\n",
       "      <th>LCBO/</th>\n",
       "      <td>Alcohol</td>\n",
       "      <td>LCBO/RAO</td>\n",
       "    </tr>\n",
       "    <tr>\n",
       "      <th>THE B</th>\n",
       "      <td>Alcohol</td>\n",
       "      <td>THE BEER STORE</td>\n",
       "    </tr>\n",
       "    <tr>\n",
       "      <th>WHOLE</th>\n",
       "      <td>Food</td>\n",
       "      <td>WHOLE FOODS MARKET</td>\n",
       "    </tr>\n",
       "    <tr>\n",
       "      <th>FARM</th>\n",
       "      <td>Food</td>\n",
       "      <td>FARM BOY</td>\n",
       "    </tr>\n",
       "    <tr>\n",
       "      <th>SHELL</th>\n",
       "      <td>Gas</td>\n",
       "      <td>SHELL</td>\n",
       "    </tr>\n",
       "  </tbody>\n",
       "</table>\n",
       "</div>"
      ],
      "text/plain": [
       "             Category           Substring\n",
       "FirstLetters                             \n",
       "LCBO/         Alcohol            LCBO/RAO\n",
       "THE B         Alcohol      THE BEER STORE\n",
       "WHOLE            Food  WHOLE FOODS MARKET\n",
       "FARM             Food            FARM BOY\n",
       "SHELL             Gas               SHELL"
      ]
     },
     "execution_count": 86,
     "metadata": {},
     "output_type": "execute_result"
    }
   ],
   "source": [
    "allLocations = pd.read_csv(\"Data/locations.csv\")\n",
    "minLen = min([len(x) for x in allLocations[\"Substring\"] ])\n",
    "allLocations[\"FirstLetters\"] = allLocations[\"Substring\"].apply(lambda x:  x[:minLen])\n",
    "allLocations.set_index(\"FirstLetters\", inplace=True)\n",
    "\n",
    "allLocations.head()\n"
   ]
  },
  {
   "cell_type": "code",
   "execution_count": null,
   "metadata": {
    "collapsed": true
   },
   "outputs": [],
   "source": []
  }
 ],
 "metadata": {
  "kernelspec": {
   "display_name": "Python 3",
   "language": "python",
   "name": "python3"
  },
  "language_info": {
   "codemirror_mode": {
    "name": "ipython",
    "version": 3
   },
   "file_extension": ".py",
   "mimetype": "text/x-python",
   "name": "python",
   "nbconvert_exporter": "python",
   "pygments_lexer": "ipython3",
   "version": "3.6.3"
  }
 },
 "nbformat": 4,
 "nbformat_minor": 2
}
