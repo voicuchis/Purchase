{
 "cells": [
  {
   "cell_type": "code",
   "execution_count": 678,
   "metadata": {},
   "outputs": [],
   "source": [
    "#Parameters\n",
    "from datetime import datetime\n",
    "g_output_category   = \"Restaurant\"\n",
    "g_transcation_files = [\"2014.csv\",\"2015.csv\",\"2016.csv\",\"2017.csv\",\"2018.csv\"]\n",
    "g_Time_Range = [datetime(2014,1,1), datetime(2018,10,1)] #year, month, day\n",
    "g_output_calendar   = \"M\" # options are 'M', 'W','D'\n"
   ]
  },
  {
   "cell_type": "code",
   "execution_count": 684,
   "metadata": {
    "scrolled": true
   },
   "outputs": [
    {
     "ename": "TypeError",
     "evalue": "cannot compare a dtyped [datetime64[ns]] array with a scalar of type [bool]",
     "output_type": "error",
     "traceback": [
      "\u001b[1;31m---------------------------------------------------------------------------\u001b[0m",
      "\u001b[1;31mTypeError\u001b[0m                                 Traceback (most recent call last)",
      "\u001b[1;32m~\\Anaconda3\\lib\\site-packages\\pandas\\core\\ops.py\u001b[0m in \u001b[0;36mna_op\u001b[1;34m(x, y)\u001b[0m\n\u001b[0;32m    882\u001b[0m         \u001b[1;32mtry\u001b[0m\u001b[1;33m:\u001b[0m\u001b[1;33m\u001b[0m\u001b[0m\n\u001b[1;32m--> 883\u001b[1;33m             \u001b[0mresult\u001b[0m \u001b[1;33m=\u001b[0m \u001b[0mop\u001b[0m\u001b[1;33m(\u001b[0m\u001b[0mx\u001b[0m\u001b[1;33m,\u001b[0m \u001b[0my\u001b[0m\u001b[1;33m)\u001b[0m\u001b[1;33m\u001b[0m\u001b[0m\n\u001b[0m\u001b[0;32m    884\u001b[0m         \u001b[1;32mexcept\u001b[0m \u001b[0mTypeError\u001b[0m\u001b[1;33m:\u001b[0m\u001b[1;33m\u001b[0m\u001b[0m\n",
      "\u001b[1;32m~\\Anaconda3\\lib\\site-packages\\pandas\\core\\ops.py\u001b[0m in \u001b[0;36m<lambda>\u001b[1;34m(x, y)\u001b[0m\n\u001b[0;32m    128\u001b[0m                  \u001b[0mxor\u001b[0m\u001b[1;33m=\u001b[0m\u001b[0mbool_method\u001b[0m\u001b[1;33m(\u001b[0m\u001b[0moperator\u001b[0m\u001b[1;33m.\u001b[0m\u001b[0mxor\u001b[0m\u001b[1;33m,\u001b[0m \u001b[0mnames\u001b[0m\u001b[1;33m(\u001b[0m\u001b[1;34m'xor'\u001b[0m\u001b[1;33m)\u001b[0m\u001b[1;33m,\u001b[0m \u001b[0mop\u001b[0m\u001b[1;33m(\u001b[0m\u001b[1;34m'^'\u001b[0m\u001b[1;33m)\u001b[0m\u001b[1;33m)\u001b[0m\u001b[1;33m,\u001b[0m\u001b[1;33m\u001b[0m\u001b[0m\n\u001b[1;32m--> 129\u001b[1;33m                  rand_=bool_method(lambda x, y: operator.and_(y, x),\n\u001b[0m\u001b[0;32m    130\u001b[0m                                    names('rand_'), op('&')),\n",
      "\u001b[1;31mTypeError\u001b[0m: unsupported operand type(s) for &: 'datetime.datetime' and 'int'",
      "\nDuring handling of the above exception, another exception occurred:\n",
      "\u001b[1;31mValueError\u001b[0m                                Traceback (most recent call last)",
      "\u001b[1;32m~\\Anaconda3\\lib\\site-packages\\pandas\\core\\ops.py\u001b[0m in \u001b[0;36mna_op\u001b[1;34m(x, y)\u001b[0m\n\u001b[0;32m    900\u001b[0m                         \u001b[0my\u001b[0m \u001b[1;33m=\u001b[0m \u001b[0mbool\u001b[0m\u001b[1;33m(\u001b[0m\u001b[0my\u001b[0m\u001b[1;33m)\u001b[0m\u001b[1;33m\u001b[0m\u001b[0m\n\u001b[1;32m--> 901\u001b[1;33m                     \u001b[0mresult\u001b[0m \u001b[1;33m=\u001b[0m \u001b[0mlib\u001b[0m\u001b[1;33m.\u001b[0m\u001b[0mscalar_binop\u001b[0m\u001b[1;33m(\u001b[0m\u001b[0mx\u001b[0m\u001b[1;33m,\u001b[0m \u001b[0my\u001b[0m\u001b[1;33m,\u001b[0m \u001b[0mop\u001b[0m\u001b[1;33m)\u001b[0m\u001b[1;33m\u001b[0m\u001b[0m\n\u001b[0m\u001b[0;32m    902\u001b[0m                 \u001b[1;32mexcept\u001b[0m\u001b[1;33m:\u001b[0m\u001b[1;33m\u001b[0m\u001b[0m\n",
      "\u001b[1;32mpandas\\_libs\\lib.pyx\u001b[0m in \u001b[0;36mpandas._libs.lib.scalar_binop\u001b[1;34m()\u001b[0m\n",
      "\u001b[1;31mValueError\u001b[0m: cannot include dtype 'M' in a buffer",
      "\nDuring handling of the above exception, another exception occurred:\n",
      "\u001b[1;31mTypeError\u001b[0m                                 Traceback (most recent call last)",
      "\u001b[1;32m<ipython-input-684-750012a7fa6e>\u001b[0m in \u001b[0;36m<module>\u001b[1;34m()\u001b[0m\n\u001b[0;32m     51\u001b[0m         \u001b[0mallTransactions\u001b[0m \u001b[1;33m=\u001b[0m \u001b[0mallTransactions\u001b[0m\u001b[1;33m.\u001b[0m\u001b[0mappend\u001b[0m\u001b[1;33m(\u001b[0m\u001b[0mnewDF\u001b[0m\u001b[1;33m)\u001b[0m\u001b[1;33m\u001b[0m\u001b[0m\n\u001b[0;32m     52\u001b[0m \u001b[1;33m\u001b[0m\u001b[0m\n\u001b[1;32m---> 53\u001b[1;33m \u001b[0mallTransactions\u001b[0m \u001b[1;33m=\u001b[0m \u001b[0mallTransactions\u001b[0m\u001b[1;33m[\u001b[0m \u001b[0mallTransactions\u001b[0m\u001b[1;33m[\u001b[0m\u001b[1;34m\"Date\"\u001b[0m\u001b[1;33m]\u001b[0m \u001b[1;33m>=\u001b[0m \u001b[0mmin\u001b[0m\u001b[1;33m(\u001b[0m\u001b[0mg_Time_Range\u001b[0m\u001b[1;33m)\u001b[0m \u001b[1;33m&\u001b[0m \u001b[0mallTransactions\u001b[0m\u001b[1;33m[\u001b[0m\u001b[1;34m\"Date\"\u001b[0m\u001b[1;33m]\u001b[0m \u001b[1;33m<=\u001b[0m\u001b[0mmax\u001b[0m\u001b[1;33m(\u001b[0m\u001b[0mg_Time_Range\u001b[0m\u001b[1;33m)\u001b[0m\u001b[1;33m]\u001b[0m\u001b[1;33m\u001b[0m\u001b[0m\n\u001b[0m\u001b[0;32m     54\u001b[0m \u001b[0mallTransactions\u001b[0m\u001b[1;33m[\u001b[0m\u001b[1;34m'Payed'\u001b[0m\u001b[1;33m]\u001b[0m    \u001b[1;33m=\u001b[0m \u001b[0mpd\u001b[0m\u001b[1;33m.\u001b[0m\u001b[0mto_numeric\u001b[0m\u001b[1;33m(\u001b[0m\u001b[0mallTransactions\u001b[0m\u001b[1;33m[\u001b[0m\u001b[1;34m'Payed'\u001b[0m\u001b[1;33m]\u001b[0m\u001b[1;33m)\u001b[0m\u001b[1;33m\u001b[0m\u001b[0m\n\u001b[0;32m     55\u001b[0m \u001b[0mallTransactions\u001b[0m\u001b[1;33m[\u001b[0m\u001b[1;34m'Received'\u001b[0m\u001b[1;33m]\u001b[0m \u001b[1;33m=\u001b[0m \u001b[0mpd\u001b[0m\u001b[1;33m.\u001b[0m\u001b[0mto_numeric\u001b[0m\u001b[1;33m(\u001b[0m\u001b[0mallTransactions\u001b[0m\u001b[1;33m[\u001b[0m\u001b[1;34m'Received'\u001b[0m\u001b[1;33m]\u001b[0m\u001b[1;33m)\u001b[0m\u001b[1;33m\u001b[0m\u001b[0m\n",
      "\u001b[1;32m~\\Anaconda3\\lib\\site-packages\\pandas\\core\\ops.py\u001b[0m in \u001b[0;36mwrapper\u001b[1;34m(self, other)\u001b[0m\n\u001b[0;32m    933\u001b[0m                       is_integer_dtype(np.asarray(other)) else fill_bool)\n\u001b[0;32m    934\u001b[0m             return filler(self._constructor(\n\u001b[1;32m--> 935\u001b[1;33m                 \u001b[0mna_op\u001b[0m\u001b[1;33m(\u001b[0m\u001b[0mself\u001b[0m\u001b[1;33m.\u001b[0m\u001b[0mvalues\u001b[0m\u001b[1;33m,\u001b[0m \u001b[0mother\u001b[0m\u001b[1;33m)\u001b[0m\u001b[1;33m,\u001b[0m\u001b[1;33m\u001b[0m\u001b[0m\n\u001b[0m\u001b[0;32m    936\u001b[0m                 index=self.index)).__finalize__(self)\n\u001b[0;32m    937\u001b[0m \u001b[1;33m\u001b[0m\u001b[0m\n",
      "\u001b[1;32m~\\Anaconda3\\lib\\site-packages\\pandas\\core\\ops.py\u001b[0m in \u001b[0;36mna_op\u001b[1;34m(x, y)\u001b[0m\n\u001b[0;32m    903\u001b[0m                     raise TypeError(\"cannot compare a dtyped [{0}] array with \"\n\u001b[0;32m    904\u001b[0m                                     \"a scalar of type [{1}]\".format(\n\u001b[1;32m--> 905\u001b[1;33m                                         x.dtype, type(y).__name__))\n\u001b[0m\u001b[0;32m    906\u001b[0m \u001b[1;33m\u001b[0m\u001b[0m\n\u001b[0;32m    907\u001b[0m         \u001b[1;32mreturn\u001b[0m \u001b[0mresult\u001b[0m\u001b[1;33m\u001b[0m\u001b[0m\n",
      "\u001b[1;31mTypeError\u001b[0m: cannot compare a dtyped [datetime64[ns]] array with a scalar of type [bool]"
     ]
    }
   ],
   "source": [
    "import pandas as pd\n",
    "import numpy as np\n",
    "\n",
    "def getLevel(node, target, thisTree):\n",
    "    level = 0\n",
    "    try:\n",
    "        while(node!=target):\n",
    "            node = thisTree[node]\n",
    "            level += 1\n",
    "        return level;\n",
    "    except:\n",
    "        return -1\n",
    "    \n",
    "def getCategory(storeName, minLen):\n",
    "    try:\n",
    "        candidates_DF = g_allLocations.loc[storeName[:minLen]]\n",
    "        shortListCandidatesSeries = []\n",
    "        if (type(candidates_DF) is pd.Series):\n",
    "            shortListCandidatesSeries.append(candidates_DF)\n",
    "        else:\n",
    "            for i in range(len(candidates_DF)):\n",
    "                shortListCandidatesSeries.append(candidates_DF.iloc[i])\n",
    "        \n",
    "        for candidate in shortListCandidatesSeries:\n",
    "            if (storeName.startswith(candidate.loc[\"Substring\"])):\n",
    "                return candidate[\"Category\"]\n",
    "        return \"Invalid Transaction\"\n",
    "    except:\n",
    "        return \"Invalid Transaction\"\n",
    "\n",
    "# Load the data and some useful global variables\n",
    "g_allLocations = pd.read_csv(\"Data/locations.csv\")\n",
    "g_allLocations_min_len = min([len(x) for x in g_allLocations[\"Substring\"] ])\n",
    "g_allLocations[\"FirstLetters\"] = g_allLocations[\"Substring\"].apply(lambda x:  x[:g_allLocations_min_len])\n",
    "g_allLocations.set_index(\"FirstLetters\" , inplace=True)\n",
    "\n",
    "firstFile = True\n",
    "for trFile in g_transcation_files:\n",
    "    newDF = (\n",
    "        pd.read_csv(\"Data/\"+trFile, \n",
    "                     quotechar='\"', \n",
    "                    header=None, \n",
    "                    names=['Date','Store','Payed','Received',\"CC\"],\n",
    "                    parse_dates=['Date']\n",
    "                   )\n",
    "    )\n",
    "    if firstFile:\n",
    "        firstFile = False\n",
    "        allTransactions = newDF.copy()\n",
    "    else:\n",
    "        allTransactions = allTransactions.append(newDF)\n",
    "    \n",
    "allTransactions = allTransactions[ (allTransactions[\"Date\"] >= min(g_Time_Range)) & (allTransactions[\"Date\"] <=max(g_Time_Range))]\n",
    "allTransactions['Payed']    = pd.to_numeric(allTransactions['Payed'])\n",
    "allTransactions['Received'] = pd.to_numeric(allTransactions['Received'])\n",
    "allTransactions[\"Category\"] = allTransactions[\"Store\"].apply(lambda x: getCategory(x, g_allLocations_min_len))\n",
    "\n",
    "print(np.sum(allTransactions[allTransactions[\"Category\"]=='Invalid Transaction'][\"Payed\"]))\n",
    "\n",
    "allTransactions[allTransactions[\"Category\"]=='Invalid Transaction'] \\\n",
    "        .groupby(\"Store\") \\\n",
    "        .agg({\"Payed\" : sum, \"Received\" : sum}) \\\n",
    "        .sort_values(\"Payed\", ascending=False) \\\n",
    "        .to_csv(\"Data/temp.csv\")\n",
    "\n",
    "# \\\n",
    "# \\\n"
   ]
  },
  {
   "cell_type": "code",
   "execution_count": 675,
   "metadata": {},
   "outputs": [
    {
     "data": {
      "text/plain": [
       "'bin/Categories.gv.pdf'"
      ]
     },
     "execution_count": 675,
     "metadata": {},
     "output_type": "execute_result"
    }
   ],
   "source": [
    "from graphviz import Digraph\n",
    "import pandas as pd\n",
    "g_Cat_Tree={} # child to parent mapping\n",
    "\n",
    "allCategories_DF = pd.read_csv(\"Data/categories.csv\")\n",
    "G = Digraph()\n",
    "\n",
    "for i in range(0, len(allCategories_DF)):\n",
    "    G.edge(allCategories_DF[\"Parent\"].iloc[i],allCategories_DF[\"Child\"].iloc[i])\n",
    "    g_Cat_Tree[allCategories_DF[\"Child\"].iloc[i]]=allCategories_DF[\"Parent\"].iloc[i]\n",
    "\n",
    "G.render('bin/Categories.gv', view=True) "
   ]
  },
  {
   "cell_type": "code",
   "execution_count": 676,
   "metadata": {},
   "outputs": [
    {
     "name": "stderr",
     "output_type": "stream",
     "text": [
      "C:\\Users\\phill\\Anaconda3\\lib\\site-packages\\ipykernel_launcher.py:12: SettingWithCopyWarning: \n",
      "A value is trying to be set on a copy of a slice from a DataFrame.\n",
      "Try using .loc[row_indexer,col_indexer] = value instead\n",
      "\n",
      "See the caveats in the documentation: http://pandas.pydata.org/pandas-docs/stable/indexing.html#indexing-view-versus-copy\n",
      "  if sys.path[0] == '':\n"
     ]
    },
    {
     "data": {
      "text/plain": [
       "<matplotlib.axes._subplots.AxesSubplot at 0x233ac7da908>"
      ]
     },
     "execution_count": 676,
     "metadata": {},
     "output_type": "execute_result"
    },
    {
     "data": {
      "image/png": "[encoded data removed]",
      "text/plain": [
       "<matplotlib.figure.Figure at 0x233ac770be0>"
      ]
     },
     "metadata": {},
     "output_type": "display_data"
    }
   ],
   "source": [
    "allTransactions[\"IncludeTransaction\"] = allTransactions[\"Category\"].apply(lambda x: getLevel(x,g_output_category, g_Cat_Tree))\n",
    "relevantTransactions = allTransactions[allTransactions[\"IncludeTransaction\"]>=0]\n",
    "\n",
    "minDate = min(relevantTransactions[\"Date\"])\n",
    "maxDate = max(relevantTransactions[\"Date\"])\n",
    "dateRange = pd.date_range(minDate, maxDate, freq=g_output_calendar)\n",
    "\n",
    "if g_output_calendar=='W':\n",
    "    relevantTransactions[\"Class\"] = relevantTransactions[\"Date\"].apply(lambda x: x.isocalendar()[0:2])\n",
    "    dateRange =[x.isocalendar()[0:2] for x in dateRange]\n",
    "elif g_output_calendar=='M':\n",
    "    relevantTransactions[\"Class\"] = relevantTransactions[\"Date\"].apply(lambda x: (x.year,x.month))\n",
    "    dateRange =[(x.year,x.month) for x in dateRange]\n",
    "elif g_output_calendar=='Y':\n",
    "    relevantTransactions[\"Class\"] = relevantTransactions[\"Date\"].apply(lambda x: x.year)\n",
    "    dateRange =[x.year for x in dateRange]\n",
    "elif g_output_calendar=='D':\n",
    "    relevantTransactions[\"Class\"] = relevantTransactions[\"Date\"].apply(lambda x: (x.year,x.month,x.day))\n",
    "    dateRange =[(x.year,x.month,x.day) for x in dateRange]\n",
    "\n",
    "toPlotData = relevantTransactions.groupby([\"Class\", \"Category\"]).agg({\"Payed\":sum,\"Received\":sum}).reset_index().set_index(\"Category\")\n",
    "toPlotCategories = set(relevantTransactions[\"Category\"])\n",
    "plottingMaterial=pd.DataFrame(index=dateRange)\n",
    "for cat in toPlotCategories:\n",
    "    catDF = toPlotData.loc[cat]\n",
    "    if (type(catDF) is pd.Series):\n",
    "        catDF = pd.DataFrame(toPlotData.loc[\"Fines\"]).T\n",
    "    plottingMaterial[cat] = catDF.set_index(\"Class\")[\"Payed\"]\n",
    "\n",
    "%matplotlib inline\n",
    "plottingMaterial.plot(kind='bar', stacked=True)"
   ]
  },
  {
   "cell_type": "code",
   "execution_count": null,
   "metadata": {
    "collapsed": true
   },
   "outputs": [],
   "source": []
  }
 ],
 "metadata": {
  "kernelspec": {
   "display_name": "Python 3",
   "language": "python",
   "name": "python3"
  },
  "language_info": {
   "codemirror_mode": {
    "name": "ipython",
    "version": 3
   },
   "file_extension": ".py",
   "mimetype": "text/x-python",
   "name": "python",
   "nbconvert_exporter": "python",
   "pygments_lexer": "ipython3",
   "version": "3.6.3"
  }
 },
 "nbformat": 4,
 "nbformat_minor": 2
}
